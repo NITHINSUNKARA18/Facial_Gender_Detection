{
 "cells": [
  {
   "cell_type": "markdown",
   "metadata": {
    "papermill": {
     "duration": 0.017263,
     "end_time": "2021-09-02T15:30:41.645534",
     "exception": false,
     "start_time": "2021-09-02T15:30:41.628271",
     "status": "completed"
    },
    "tags": []
   },
   "source": [
    "\n",
    "\n"
   ]
  },
  {
   "cell_type": "code",
   "execution_count": 1,
   "metadata": {
    "execution": {
     "iopub.execute_input": "2021-09-02T15:30:41.876605Z",
     "iopub.status.busy": "2021-09-02T15:30:41.875913Z",
     "iopub.status.idle": "2021-09-02T15:30:48.072680Z",
     "shell.execute_reply": "2021-09-02T15:30:48.071223Z",
     "shell.execute_reply.started": "2021-08-30T17:43:13.477819Z"
    },
    "papermill": {
     "duration": 6.218851,
     "end_time": "2021-09-02T15:30:48.072948",
     "exception": false,
     "start_time": "2021-09-02T15:30:41.854097",
     "status": "completed"
    },
    "tags": []
   },
   "outputs": [],
   "source": [
    "from keras.layers import Conv2D, MaxPooling2D, Flatten, Dense, BatchNormalization\n",
    "from keras.preprocessing.image import ImageDataGenerator\n",
    "from keras.models import Sequential"
   ]
  },
  {
   "cell_type": "code",
   "execution_count": 2,
   "metadata": {
    "execution": {
     "iopub.execute_input": "2021-09-02T15:30:48.108998Z",
     "iopub.status.busy": "2021-09-02T15:30:48.107987Z",
     "iopub.status.idle": "2021-09-02T15:30:48.111530Z",
     "shell.execute_reply": "2021-09-02T15:30:48.110845Z",
     "shell.execute_reply.started": "2021-08-30T17:43:16.277023Z"
    },
    "papermill": {
     "duration": 0.02398,
     "end_time": "2021-09-02T15:30:48.111656",
     "exception": false,
     "start_time": "2021-09-02T15:30:48.087676",
     "status": "completed"
    },
    "tags": []
   },
   "outputs": [],
   "source": [
    "train_datagen = ImageDataGenerator(rescale = 1./255,\n",
    "      rotation_range=25,\n",
    "      width_shift_range=0.2,\n",
    "      height_shift_range=0.2,\n",
    "      shear_range=0.2,\n",
    "      zoom_range=0.2,\n",
    "      horizontal_flip=True,\n",
    "      fill_mode='nearest')\n"
   ]
  },
  {
   "cell_type": "code",
   "execution_count": 3,
   "metadata": {
    "execution": {
     "iopub.execute_input": "2021-09-02T15:30:48.187653Z",
     "iopub.status.busy": "2021-09-02T15:30:48.186863Z",
     "iopub.status.idle": "2021-09-02T15:35:28.614043Z",
     "shell.execute_reply": "2021-09-02T15:35:28.612992Z",
     "shell.execute_reply.started": "2021-08-30T17:43:37.50231Z"
    },
    "papermill": {
     "duration": 280.448753,
     "end_time": "2021-09-02T15:35:28.614191",
     "exception": false,
     "start_time": "2021-09-02T15:30:48.165438",
     "status": "completed"
    },
    "tags": []
   },
   "outputs": [
    {
     "name": "stdout",
     "output_type": "stream",
     "text": [
      "Found 4941 images belonging to 2 classes.\n",
      "Found 9190 images belonging to 2 classes.\n"
     ]
    }
   ],
   "source": [
    "validation_datagen = ImageDataGenerator( rescale = 1.0/255)\n",
    "\n",
    "train_generator = train_datagen.flow_from_directory('C:/Users/nitin/Downloads/DATASET1/Train',\n",
    "                                                    batch_size =64,\n",
    "                                                    class_mode = 'binary',\n",
    "                                                    target_size = (64,64))     \n",
    "\n",
    "validation_generator =  validation_datagen.flow_from_directory( 'C:/Users/nitin/Downloads/DATASET1/Validation',\n",
    "                                                          batch_size  = 64,\n",
    "                                                          class_mode  = 'binary',\n",
    "                                                          target_size = (64,64))"
   ]
  },
  {
   "cell_type": "code",
   "execution_count": 4,
   "metadata": {
    "execution": {
     "iopub.execute_input": "2021-09-02T15:35:29.697283Z",
     "iopub.status.busy": "2021-09-02T15:35:29.691863Z",
     "iopub.status.idle": "2021-09-02T15:35:30.213866Z",
     "shell.execute_reply": "2021-09-02T15:35:30.213184Z",
     "shell.execute_reply.started": "2021-08-30T18:06:33.750906Z"
    },
    "papermill": {
     "duration": 0.552314,
     "end_time": "2021-09-02T15:35:30.213993",
     "exception": false,
     "start_time": "2021-09-02T15:35:29.661679",
     "status": "completed"
    },
    "tags": []
   },
   "outputs": [
    {
     "name": "stdout",
     "output_type": "stream",
     "text": [
      "Model: \"sequential\"\n",
      "_________________________________________________________________\n",
      " Layer (type)                Output Shape              Param #   \n",
      "=================================================================\n",
      " conv2d (Conv2D)             (None, 64, 64, 512)       14336     \n",
      "                                                                 \n",
      " max_pooling2d (MaxPooling2  (None, 32, 32, 512)       0         \n",
      " D)                                                              \n",
      "                                                                 \n",
      " batch_normalization (Batch  (None, 32, 32, 512)       2048      \n",
      " Normalization)                                                  \n",
      "                                                                 \n",
      " conv2d_1 (Conv2D)           (None, 32, 32, 128)       589952    \n",
      "                                                                 \n",
      " max_pooling2d_1 (MaxPoolin  (None, 16, 16, 128)       0         \n",
      " g2D)                                                            \n",
      "                                                                 \n",
      " batch_normalization_1 (Bat  (None, 16, 16, 128)       512       \n",
      " chNormalization)                                                \n",
      "                                                                 \n",
      " conv2d_2 (Conv2D)           (None, 16, 16, 384)       442752    \n",
      "                                                                 \n",
      " max_pooling2d_2 (MaxPoolin  (None, 8, 8, 384)         0         \n",
      " g2D)                                                            \n",
      "                                                                 \n",
      " batch_normalization_2 (Bat  (None, 8, 8, 384)         1536      \n",
      " chNormalization)                                                \n",
      "                                                                 \n",
      " conv2d_3 (Conv2D)           (None, 8, 8, 384)         1327488   \n",
      "                                                                 \n",
      " max_pooling2d_3 (MaxPoolin  (None, 4, 4, 384)         0         \n",
      " g2D)                                                            \n",
      "                                                                 \n",
      " batch_normalization_3 (Bat  (None, 4, 4, 384)         1536      \n",
      " chNormalization)                                                \n",
      "                                                                 \n",
      " conv2d_4 (Conv2D)           (None, 4, 4, 500)         1728500   \n",
      "                                                                 \n",
      " max_pooling2d_4 (MaxPoolin  (None, 2, 2, 500)         0         \n",
      " g2D)                                                            \n",
      "                                                                 \n",
      " batch_normalization_4 (Bat  (None, 2, 2, 500)         2000      \n",
      " chNormalization)                                                \n",
      "                                                                 \n",
      " max_pooling2d_5 (MaxPoolin  (None, 1, 1, 500)         0         \n",
      " g2D)                                                            \n",
      "                                                                 \n",
      " flatten (Flatten)           (None, 500)               0         \n",
      "                                                                 \n",
      " dense (Dense)               (None, 128)               64128     \n",
      "                                                                 \n",
      " dense_1 (Dense)             (None, 64)                8256      \n",
      "                                                                 \n",
      " dense_2 (Dense)             (None, 32)                2080      \n",
      "                                                                 \n",
      " dense_3 (Dense)             (None, 1)                 33        \n",
      "                                                                 \n",
      "=================================================================\n",
      "Total params: 4185157 (15.97 MB)\n",
      "Trainable params: 4181341 (15.95 MB)\n",
      "Non-trainable params: 3816 (14.91 KB)\n",
      "_________________________________________________________________\n"
     ]
    }
   ],
   "source": [
    "# Building Model\n",
    "model=Sequential()\n",
    "\n",
    "model.add(Conv2D(512, (3, 3),strides=(1,1), activation='relu', padding='same', input_shape=(64,64,3)))\n",
    "model.add(MaxPooling2D((2,2)))\n",
    "model.add(BatchNormalization())\n",
    "\n",
    "model.add(Conv2D(128, (3, 3),strides=(1,1), activation='relu', padding='same'))\n",
    "model.add(MaxPooling2D((2,2)))\n",
    "model.add(BatchNormalization())\n",
    "\n",
    "model.add(Conv2D(384, (3, 3),strides=(1,1), activation='relu', padding='same'))\n",
    "model.add(MaxPooling2D((2,2)))\n",
    "model.add(BatchNormalization())\n",
    "\n",
    "model.add(Conv2D(384, (3, 3),strides=(1,1), activation='relu', padding='same'))\n",
    "model.add(MaxPooling2D((2,2)))\n",
    "model.add(BatchNormalization())\n",
    "\n",
    "model.add(Conv2D(500, (3, 3),strides=(1,1), activation='relu', padding='same'))\n",
    "model.add(MaxPooling2D((2,2)))\n",
    "model.add(BatchNormalization())\n",
    "\n",
    "model.add(MaxPooling2D(2,strides=(2,2), padding='same'))\n",
    "\n",
    "\n",
    "\n",
    "# Add new layers\n",
    "model.add(Flatten())\n",
    "model.add(Dense(units = 128, activation='relu'))\n",
    "model.add(Dense(units = 64, activation='relu'))\n",
    "model.add(Dense(units = 32, activation='relu'))\n",
    "model.add(Dense(units = 1, activation='sigmoid'))\n",
    "\n",
    "model.summary()\n"
   ]
  },
  {
   "cell_type": "code",
   "execution_count": 5,
   "metadata": {
    "execution": {
     "iopub.execute_input": "2021-09-02T15:35:30.267584Z",
     "iopub.status.busy": "2021-09-02T15:35:30.266875Z",
     "iopub.status.idle": "2021-09-02T15:35:30.273928Z",
     "shell.execute_reply": "2021-09-02T15:35:30.273264Z",
     "shell.execute_reply.started": "2021-08-30T18:06:39.166189Z"
    },
    "papermill": {
     "duration": 0.04099,
     "end_time": "2021-09-02T15:35:30.274043",
     "exception": false,
     "start_time": "2021-09-02T15:35:30.233053",
     "status": "completed"
    },
    "tags": []
   },
   "outputs": [],
   "source": [
    "model.compile(optimizer='adam',\n",
    "              loss='binary_crossentropy'\n",
    "              ,metrics=['accuracy'])"
   ]
  },
  {
   "cell_type": "code",
   "execution_count": 6,
   "metadata": {
    "execution": {
     "iopub.execute_input": "2021-09-02T15:35:31.523359Z",
     "iopub.status.busy": "2021-09-02T15:35:31.522597Z",
     "iopub.status.idle": "2021-09-02T20:23:59.621020Z",
     "shell.execute_reply": "2021-09-02T20:23:59.621911Z"
    },
    "papermill": {
     "duration": 17308.134404,
     "end_time": "2021-09-02T20:23:59.622220",
     "exception": false,
     "start_time": "2021-09-02T15:35:31.487816",
     "status": "completed"
    },
    "tags": []
   },
   "outputs": [
    {
     "name": "stderr",
     "output_type": "stream",
     "text": [
      "C:\\Users\\nitin\\AppData\\Local\\Temp\\ipykernel_16460\\366948582.py:1: UserWarning: `Model.fit_generator` is deprecated and will be removed in a future version. Please use `Model.fit`, which supports generators.\n",
      "  hist = model.fit_generator(generator=train_generator,\n"
     ]
    },
    {
     "name": "stdout",
     "output_type": "stream",
     "text": [
      "Epoch 1/2\n",
      "78/78 [==============================] - 516s 7s/step - loss: 0.6159 - accuracy: 0.6669 - val_loss: 1.1401 - val_accuracy: 0.3483\n",
      "Epoch 2/2\n",
      "78/78 [==============================] - 541s 7s/step - loss: 0.5262 - accuracy: 0.7399 - val_loss: 0.7076 - val_accuracy: 0.6471\n"
     ]
    }
   ],
   "source": [
    "hist = model.fit_generator(generator=train_generator,\n",
    "                           validation_data=validation_generator,\n",
    "                           epochs=2)"
   ]
  },
  {
   "cell_type": "code",
   "execution_count": 7,
   "metadata": {
    "execution": {
     "iopub.execute_input": "2021-09-02T20:24:01.061294Z",
     "iopub.status.busy": "2021-09-02T20:24:01.060247Z",
     "iopub.status.idle": "2021-09-02T20:24:01.316464Z",
     "shell.execute_reply": "2021-09-02T20:24:01.316977Z"
    },
    "papermill": {
     "duration": 0.980635,
     "end_time": "2021-09-02T20:24:01.317130",
     "exception": false,
     "start_time": "2021-09-02T20:24:00.336495",
     "status": "completed"
    },
    "tags": []
   },
   "outputs": [
    {
     "data": {
      "image/png": "[encoded data removed]",
      "text/plain": [
       "<Figure size 640x480 with 1 Axes>"
      ]
     },
     "metadata": {},
     "output_type": "display_data"
    },
    {
     "data": {
      "text/plain": [
       "<Figure size 640x480 with 0 Axes>"
      ]
     },
     "metadata": {},
     "output_type": "display_data"
    }
   ],
   "source": [
    "import matplotlib.pyplot as plt\n",
    "acc = hist.history['accuracy']\n",
    "val_acc = hist.history['val_accuracy']\n",
    "loss = hist.history['loss']\n",
    "val_loss = hist.history['val_loss']\n",
    "\n",
    "epochs = range(len(acc))\n",
    "\n",
    "plt.plot(epochs, acc)\n",
    "plt.plot(epochs, val_acc)\n",
    "plt.title('Training and validation accuracy')\n",
    "plt.legend(['Training accuracy','Validation accuracy'])\n",
    "plt.figure()\n",
    "plt.show()"
   ]
  },
  {
   "cell_type": "code",
   "execution_count": 1,
   "metadata": {},
   "outputs": [
    {
     "ename": "NameError",
     "evalue": "name 'model' is not defined",
     "output_type": "error",
     "traceback": [
      "\u001b[1;31m---------------------------------------------------------------------------\u001b[0m",
      "\u001b[1;31mNameError\u001b[0m                                 Traceback (most recent call last)",
      "Cell \u001b[1;32mIn[1], line 11\u001b[0m\n\u001b[0;32m      8\u001b[0m X \u001b[38;5;241m=\u001b[39m np\u001b[38;5;241m.\u001b[39mexpand_dims(X, axis\u001b[38;5;241m=\u001b[39m\u001b[38;5;241m0\u001b[39m)\n\u001b[0;32m     10\u001b[0m images \u001b[38;5;241m=\u001b[39m np\u001b[38;5;241m.\u001b[39mvstack([X])\n\u001b[1;32m---> 11\u001b[0m classes \u001b[38;5;241m=\u001b[39m \u001b[43mmodel\u001b[49m\u001b[38;5;241m.\u001b[39mpredict(images, batch_size\u001b[38;5;241m=\u001b[39m\u001b[38;5;241m1\u001b[39m)\n\u001b[0;32m     12\u001b[0m \u001b[38;5;28mprint\u001b[39m(classes[\u001b[38;5;241m0\u001b[39m])\n\u001b[0;32m     13\u001b[0m \u001b[38;5;28;01mif\u001b[39;00m classes[\u001b[38;5;241m0\u001b[39m]\u001b[38;5;241m<\u001b[39m\u001b[38;5;241m0.5\u001b[39m:\n",
      "\u001b[1;31mNameError\u001b[0m: name 'model' is not defined"
     ]
    }
   ],
   "source": [
    "import numpy as np\n",
    "from keras.preprocessing import image\n",
    "\n",
    "#  images test 2\n",
    "path_testmodel = \"C:/Users/nitin/Downloads/DATASET1/Test/women/139.jpg\"\n",
    "imge = image.load_img(path_testmodel, target_size=(64,64))\n",
    "X = image.img_to_array(imge)\n",
    "X = np.expand_dims(X, axis=0)\n",
    "\n",
    "images = np.vstack([X])\n",
    "classes = model.predict(images, batch_size=1)\n",
    "print(classes[0])\n",
    "if classes[0]<0.5:\n",
    "    print(\"This is a female\")\n",
    "plt.imshow(imge)"
   ]
  },
  {
   "cell_type": "code",
   "execution_count": 23,
   "metadata": {
    "execution": {
     "iopub.execute_input": "2021-09-02T20:24:04.861487Z",
     "iopub.status.busy": "2021-09-02T20:24:04.860439Z",
     "iopub.status.idle": "2021-09-02T20:24:05.109157Z",
     "shell.execute_reply": "2021-09-02T20:24:05.108465Z"
    },
    "papermill": {
     "duration": 0.974011,
     "end_time": "2021-09-02T20:24:05.109310",
     "exception": false,
     "start_time": "2021-09-02T20:24:04.135299",
     "status": "completed"
    },
    "tags": []
   },
   "outputs": [
    {
     "name": "stdout",
     "output_type": "stream",
     "text": [
      "1/1 [==============================] - 0s 34ms/step\n",
      "[0.]\n",
      "This is a male\n"
     ]
    },
    {
     "data": {
      "text/plain": [
       "<matplotlib.image.AxesImage at 0x1d195898990>"
      ]
     },
     "execution_count": 23,
     "metadata": {},
     "output_type": "execute_result"
    },
    {
     "data": {
      "image/png": "[encoded data removed]",
      "text/plain": [
       "<Figure size 640x480 with 1 Axes>"
      ]
     },
     "metadata": {},
     "output_type": "display_data"
    }
   ],
   "source": [
    "import numpy as np\n",
    "from keras.preprocessing import image\n",
    "\n",
    "#  images test 2\n",
    "path_testmodel = \"C:/Users/nitin/Downloads/DATASET1/Test/men/137.jpg\"\n",
    "imge = image.load_img(path_testmodel, target_size=(64,64))\n",
    "X = image.img_to_array(imge)\n",
    "X = np.expand_dims(X, axis=0)\n",
    "\n",
    "images = np.vstack([X])\n",
    "classes = model.predict(images, batch_size=1)\n",
    "print(classes[0])\n",
    "if classes[0]<0.5:\n",
    "    print(\"This is a male\")\n",
    "plt.imshow(imge)"
   ]
  },
  {
   "cell_type": "code",
   "execution_count": null,
   "metadata": {},
   "outputs": [],
   "source": []
  }
 ],
 "metadata": {
  "kernelspec": {
   "display_name": "Python 3 (ipykernel)",
   "language": "python",
   "name": "python3"
  },
  "language_info": {
   "codemirror_mode": {
    "name": "ipython",
    "version": 3
   },
   "file_extension": ".py",
   "mimetype": "text/x-python",
   "name": "python",
   "nbconvert_exporter": "python",
   "pygments_lexer": "ipython3",
   "version": "3.11.3"
  },
  "papermill": {
   "duration": 17609.34301,
   "end_time": "2021-09-02T20:24:05.963028",
   "environment_variables": {},
   "exception": null,
   "input_path": "__notebook__.ipynb",
   "output_path": "__notebook__.ipynb",
   "parameters": {},
   "start_time": "2021-09-02T15:30:36.620018",
   "version": "2.1.0"
  }
 },
 "nbformat": 4,
 "nbformat_minor": 4
}
